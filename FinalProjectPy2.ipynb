{
  "metadata": {
    "kernelspec": {
      "name": "python",
      "display_name": "Python (Pyodide)",
      "language": "python"
    },
    "language_info": {
      "codemirror_mode": {
        "name": "python",
        "version": 3
      },
      "file_extension": ".py",
      "mimetype": "text/x-python",
      "name": "python",
      "nbconvert_exporter": "python",
      "pygments_lexer": "ipython3",
      "version": "3.8"
    }
  },
  "nbformat_minor": 4,
  "nbformat": 4,
  "cells": [
    {
      "cell_type": "code",
      "source": "!pip install yfinance==0.2.4\n\nimport yfinance as yf\nimport pandas as pd\n\nimport json\nwith open('tesla.json') as json_file:\n    tesla_info = json.load(json_file)\ntesla_info\n\nimport json\nwith open('gme.json') as json_file:\n    gme_info = json.load(json_file)\ngme_info\n\n#1\ntesla = yf.Ticker('TSLA')\ntesla_data = tesla.history(period=\"max\")\ntesla_data.reset_index(inplace=True)\ntesla_data.head(5)\n\n#2\nurl = \"https://www.macrotrends.net/stocks/charts/TSLA/tesla/revenue\"\nhtml_data = requests.get(url).text\nsoup = BeautifulSoup(html_data, \"html5lib\")\nprint(soup.prettify())\n\ntesla_revenue = pd.DataFrame(columns = [\"Date\",\"Revenue\"])\n\nfor table in soup.find_all('table'):\n    if table.find('th').getText().startswith(\"Tesla Quarterly Revenue\"):\n        for row in table.find(\"tbody\").find_all(\"tr\"):\n            col = row.find_all(\"td\")\n            if len(col) != 2: continue\n            Date = col[0].text\n            Revenue = col[1].text.replace(\"$\",\"\").replace(\",\",\"\")\n               \n            tesla_revenue = tesla_revenue.append({\"Date\":Date, \"Revenue\":Revenue}, ignore_index=True)\n\ntesla_revenue.dropna(axis=0, how='all', subset=['Revenue'])\ntesla_revenue = tesla_revenue[tesla_revenue['Revenue'] != \"\"]\n\ntesla_revenue.tail(5)\n\n#3\ngme = yf.Ticker('GME')\ngme_data = gme.history(period = \"max\")\ngme_data.reset_index(inplace=True)\ngme_data.head(5)\n\n#4\nurl = \"https://www.macrotrends.net/stocks/charts/GME/gamestop/revenue\"\nhtml_data = requests.get(url).text\nsoup = BeautifulSoup(html_data, \"html5lib\")\nprint(soup.prettify())\n\ngme_revenue = pd.DataFrame(columns = [\"Date\",\"Revenue\"])\n\nfor table in soup.find_all('table'):\n    if table.find('th').getText().startswith(\"GameStop Quarterly Revenue\"):\n        for row in table.find(\"tbody\").find_all(\"tr\"):\n            col = row.find_all(\"td\")\n            if len(col) != 2: continue\n            Date = col[0].text\n            Revenue = col[1].text.replace(\"$\",\"\").replace(\",\",\"\")\n               \n            gme_revenue = gme_revenue.append({\"Date\":Date, \"Revenue\":Revenue}, ignore_index=True)\n\ngme_revenue.tail(5)\n\n#5\nmake_graph(tesla_data, tesla_revenue, 'Tesla')\n\n#6\nmake_graph(gme_data, gme_revenue, 'GameStop')\n\n\n\n\n",
      "metadata": {
        "trusted": true
      },
      "outputs": [],
      "execution_count": null
    }
  ]
}